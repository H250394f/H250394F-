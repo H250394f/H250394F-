{
 "cells": [
  {
   "cell_type": "code",
   "execution_count": null,
   "id": "ef2ed637",
   "metadata": {},
   "outputs": [],
   "source": [
    "def create_story():\n",
    "    print(\"\"\"Hello \n",
    "          Let's create a personalized story!\"\"\")\n",
    "\n",
    "    name = input(\"Please enter your name: \")\n",
    "    favorite_color = input(\"What's your favorite color? \")\n",
    "    favorite_meal = input(\"What's your favorite meal? \")\n",
    "    best_friend = input(\"Who's your best friend? \")\n",
    "\n",
    "    story = f\"\"\"\n",
    "{name} was sitting on a tree in the park, enjoying the warm sunshine and watching children play. Suddenly, a bright {favorite_color} bird caught {name}'s eye. The bird's feathers matched {name}'s favorite color.\n",
    "\n",
    "As {name} watched the bird, it flew down and dropped a small note. {name} picked it up and read it: \"Meet me at the café for your favorite meal, {favorite_meal}!\" {name}'s stomach growled at the mention of {favorite_meal}, their absolute favorite meal.\n",
    "\n",
    "{name} headed to the café, curious about who could have sent the note. Upon arrival, they saw {best_friend} waving from a corner table. {best_friend} loved reading and hiking, just like {name}.\n",
    "\n",
    "Over {favorite_meal}, {best_friend} told {name} about a new hiking trail she'd discovered. \"It's beautiful,\" she said. \"The trail is lined with {favorite_color} wildflowers.\" {name}'s eyes lit up at the thought of hiking amidst nature's beauty.\n",
    "\n",
    "The two friends spent the rest of the day hiking and enjoying each other's company. As the sun set, {name} realized it had been a perfect day, filled with good food, nature, and friendship.\n",
    "\"\"\"\n",
    "\n",
    "    print(\"\\nHere's your personalized story:\")\n",
    "    print(story)\n",
    "    \n",
    "\n",
    "create_story()"
   ]
  }
 ],
 "metadata": {
  "kernelspec": {
   "display_name": "Python 3",
   "language": "python",
   "name": "python3"
  },
  "language_info": {
   "codemirror_mode": {
    "name": "ipython",
    "version": 3
   },
   "file_extension": ".py",
   "mimetype": "text/x-python",
   "name": "python",
   "nbconvert_exporter": "python",
   "pygments_lexer": "ipython3",
   "version": "3.10.4"
  }
 },
 "nbformat": 4,
 "nbformat_minor": 5
}
